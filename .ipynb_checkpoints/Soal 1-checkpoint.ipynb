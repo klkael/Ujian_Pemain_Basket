{
 "cells": [
  {
   "cell_type": "code",
   "execution_count": 134,
   "metadata": {},
   "outputs": [],
   "source": [
    "import pandas as pd\n",
    "import numpy as np\n",
    "from sklearn.preprocessing import StandardScaler\n",
    "from sklearn.model_selection import train_test_split\n",
    "from sklearn.neighbors import KNeighborsClassifier"
   ]
  },
  {
   "cell_type": "code",
   "execution_count": 115,
   "metadata": {},
   "outputs": [
    {
     "name": "stderr",
     "output_type": "stream",
     "text": [
      "Z:\\Anaconda\\lib\\site-packages\\ipykernel_launcher.py:8: UserWarning: Boolean Series key will be reindexed to match DataFrame index.\n",
      "  \n"
     ]
    }
   ],
   "source": [
    "# df1 = pd.read_csv('all_seasons.csv',index_col='Unnamed: 0')\n",
    "# #df.isnull().sum()\n",
    "# df['Name'] = df1['player_name']\n",
    "# df\n",
    "\n",
    "df = pd.read_csv('all_seasons.csv',index_col='Unnamed: 0')\n",
    "df1 = df[['player_name','team_abbreviation','country','age','player_height','player_weight','pts','reb']]\n",
    "dftarget = df1[df1['age'] <= 25][df1['player_height'] >= 180][df1['player_weight'] <= 90][df1['pts'] >= 6][df1['reb'] >= 3]\n",
    "dftarget\n",
    "labeltarget = 1\n",
    "dftarget['Rekrut'] = labeltarget\n",
    "dftarget\n",
    "\n",
    "dfnontarget = df1.drop(dftarget.index)\n",
    "dfnontarget\n",
    "\n",
    "labelnontarget = 0\n",
    "dfnontarget['Rekrut'] = labelnontarget\n",
    "dfnontarget\n",
    "\n",
    "df1rekrut = pd.concat([dftarget,dfnontarget])\n",
    "df1rekrut =  df1rekrut.sort_index(ascending=True)"
   ]
  },
  {
   "cell_type": "markdown",
   "metadata": {},
   "source": [
    "# Standardisasi & Cek Outlier"
   ]
  },
  {
   "cell_type": "code",
   "execution_count": 143,
   "metadata": {},
   "outputs": [
    {
     "name": "stdout",
     "output_type": "stream",
     "text": [
      "            player_name team_abbreviation     country   age  player_height  \\\n",
      "0        Chris Robinson               VAN         USA  23.0         195.58   \n",
      "1             Matt Fish               MIA         USA  27.0         210.82   \n",
      "2          Matt Bullard               HOU         USA  30.0         208.28   \n",
      "3          Marty Conlon               BOS         USA  29.0         210.82   \n",
      "4       Martin Muursepp               DAL         USA  22.0         205.74   \n",
      "...                 ...               ...         ...   ...            ...   \n",
      "9556     Elijah Millsap               PHX         USA  29.0         200.66   \n",
      "9557      Elfrid Payton               ORL         USA  23.0         193.04   \n",
      "9558        Edy Tavares               CLE  Cabo Verde  25.0         220.98   \n",
      "9559  Willy Hernangomez               NYK       Spain  23.0         210.82   \n",
      "9560    Wilson Chandler               DEN         USA  30.0         203.20   \n",
      "\n",
      "      player_weight   pts  reb  Rekrut     Z AGE  Z HEIGHT  Z WEIGHT  \\\n",
      "0          90.71840   4.6  1.7       0 -0.996742 -0.578993 -0.802604   \n",
      "1         106.59412   0.3  0.8       0 -0.077272  1.063130  0.439607   \n",
      "2         106.59412   4.5  1.6       0  0.612331  0.789443  0.439607   \n",
      "3         111.13004   7.8  4.4       0  0.382463  1.063130  0.794524   \n",
      "4         106.59412   3.7  1.6       0 -1.226609  0.515755  0.439607   \n",
      "...             ...   ...  ...     ...       ...       ...       ...   \n",
      "9556       97.52228   1.5  3.0       0  0.382463 -0.031619 -0.270228   \n",
      "9557       83.91452  12.8  4.7       1 -0.996742 -0.852680 -1.334980   \n",
      "9558      120.20188   4.0  5.5       0 -0.537007  2.157878  1.504359   \n",
      "9559      108.86208   8.2  7.0       0 -0.996742  1.063130  0.617065   \n",
      "9560      102.05820  15.7  6.5       0  0.612331  0.242068  0.084689   \n",
      "\n",
      "         Z PTS     Z REB  \n",
      "0    -0.589390 -0.747850  \n",
      "1    -1.319614 -1.108712  \n",
      "2    -0.606372 -0.787946  \n",
      "3    -0.045967  0.334735  \n",
      "4    -0.742228 -0.787946  \n",
      "...        ...       ...  \n",
      "9556 -1.115831 -0.226605  \n",
      "9557  0.803131  0.455022  \n",
      "9558 -0.691282  0.775788  \n",
      "9559  0.021961  1.377224  \n",
      "9560  1.295608  1.176746  \n",
      "\n",
      "[9561 rows x 14 columns]\n"
     ]
    }
   ],
   "source": [
    "scaler = StandardScaler()\n",
    "scalerheight = scaler.fit_transform(df1rekrut[['player_height']])\n",
    "scalerweight = scaler.fit_transform(df1rekrut[['player_weight']])\n",
    "scalerpts = scaler.fit_transform(df1rekrut[['pts']])\n",
    "scalerreb = scaler.fit_transform(df1rekrut[['reb']])\n",
    "scalerage = scaler.fit_transform(df1rekrut[['age']])\n",
    "df1rekrut['Z AGE'] = scalerage\n",
    "df1rekrut['Z HEIGHT'] = scalerheight\n",
    "df1rekrut['Z WEIGHT'] = scalerweight\n",
    "df1rekrut['Z PTS'] = scalerpts\n",
    "df1rekrut['Z REB'] = scalerreb\n",
    "df1rekrut\n",
    "dfstd = scaler.fit_transform(df1rekrut[['player_height','player_weight','pts','reb','age']])\n",
    "dfstd\n",
    "dfstd = pd.DataFrame(dfstd)\n",
    "dfstd\n",
    "dfstd['target'] = df1rekrut['Rekrut']\n",
    "print(df1rekrut)"
   ]
  },
  {
   "cell_type": "code",
   "execution_count": 117,
   "metadata": {},
   "outputs": [
    {
     "name": "stdout",
     "output_type": "stream",
     "text": [
      "-1.5993638794892286e-15\n",
      "4.1953273938331177e-16\n",
      "2.458027506041765e-16\n",
      "-5.882637634924216e-17\n",
      "9.30840896349773e-16\n",
      "1.0000522998875856\n",
      "1.0000522998875985\n",
      "1.0000522998875951\n",
      "1.0000522998875883\n",
      "1.0000522998876242\n"
     ]
    }
   ],
   "source": [
    "print(df1rekrut['Z HEIGHT'].mean())\n",
    "print(df1rekrut['Z WEIGHT'].mean())\n",
    "print(df1rekrut['Z PTS'].mean())\n",
    "print(df1rekrut['Z REB'].mean())\n",
    "print(df1rekrut['Z AGE'].mean())\n",
    "\n",
    "print(df1rekrut['Z HEIGHT'].std())\n",
    "print(df1rekrut['Z WEIGHT'].std())\n",
    "print(df1rekrut['Z PTS'].std())\n",
    "print(df1rekrut['Z REB'].std())\n",
    "print(df1rekrut['Z AGE'].std())"
   ]
  },
  {
   "cell_type": "code",
   "execution_count": 118,
   "metadata": {},
   "outputs": [
    {
     "data": {
      "text/html": [
       "<div>\n",
       "<style scoped>\n",
       "    .dataframe tbody tr th:only-of-type {\n",
       "        vertical-align: middle;\n",
       "    }\n",
       "\n",
       "    .dataframe tbody tr th {\n",
       "        vertical-align: top;\n",
       "    }\n",
       "\n",
       "    .dataframe thead th {\n",
       "        text-align: right;\n",
       "    }\n",
       "</style>\n",
       "<table border=\"1\" class=\"dataframe\">\n",
       "  <thead>\n",
       "    <tr style=\"text-align: right;\">\n",
       "      <th></th>\n",
       "      <th>0</th>\n",
       "      <th>1</th>\n",
       "      <th>2</th>\n",
       "      <th>3</th>\n",
       "      <th>4</th>\n",
       "      <th>target</th>\n",
       "    </tr>\n",
       "  </thead>\n",
       "  <tbody>\n",
       "    <tr>\n",
       "      <th>0</th>\n",
       "      <td>-0.578993</td>\n",
       "      <td>-0.802604</td>\n",
       "      <td>-0.589390</td>\n",
       "      <td>-0.747850</td>\n",
       "      <td>-0.996742</td>\n",
       "      <td>0</td>\n",
       "    </tr>\n",
       "    <tr>\n",
       "      <th>1</th>\n",
       "      <td>1.063130</td>\n",
       "      <td>0.439607</td>\n",
       "      <td>-1.319614</td>\n",
       "      <td>-1.108712</td>\n",
       "      <td>-0.077272</td>\n",
       "      <td>0</td>\n",
       "    </tr>\n",
       "    <tr>\n",
       "      <th>2</th>\n",
       "      <td>0.789443</td>\n",
       "      <td>0.439607</td>\n",
       "      <td>-0.606372</td>\n",
       "      <td>-0.787946</td>\n",
       "      <td>0.612331</td>\n",
       "      <td>0</td>\n",
       "    </tr>\n",
       "    <tr>\n",
       "      <th>3</th>\n",
       "      <td>1.063130</td>\n",
       "      <td>0.794524</td>\n",
       "      <td>-0.045967</td>\n",
       "      <td>0.334735</td>\n",
       "      <td>0.382463</td>\n",
       "      <td>0</td>\n",
       "    </tr>\n",
       "    <tr>\n",
       "      <th>4</th>\n",
       "      <td>0.515755</td>\n",
       "      <td>0.439607</td>\n",
       "      <td>-0.742228</td>\n",
       "      <td>-0.787946</td>\n",
       "      <td>-1.226609</td>\n",
       "      <td>0</td>\n",
       "    </tr>\n",
       "    <tr>\n",
       "      <th>...</th>\n",
       "      <td>...</td>\n",
       "      <td>...</td>\n",
       "      <td>...</td>\n",
       "      <td>...</td>\n",
       "      <td>...</td>\n",
       "      <td>...</td>\n",
       "    </tr>\n",
       "    <tr>\n",
       "      <th>9556</th>\n",
       "      <td>-0.031619</td>\n",
       "      <td>-0.270228</td>\n",
       "      <td>-1.115831</td>\n",
       "      <td>-0.226605</td>\n",
       "      <td>0.382463</td>\n",
       "      <td>0</td>\n",
       "    </tr>\n",
       "    <tr>\n",
       "      <th>9557</th>\n",
       "      <td>-0.852680</td>\n",
       "      <td>-1.334980</td>\n",
       "      <td>0.803131</td>\n",
       "      <td>0.455022</td>\n",
       "      <td>-0.996742</td>\n",
       "      <td>1</td>\n",
       "    </tr>\n",
       "    <tr>\n",
       "      <th>9558</th>\n",
       "      <td>2.157878</td>\n",
       "      <td>1.504359</td>\n",
       "      <td>-0.691282</td>\n",
       "      <td>0.775788</td>\n",
       "      <td>-0.537007</td>\n",
       "      <td>0</td>\n",
       "    </tr>\n",
       "    <tr>\n",
       "      <th>9559</th>\n",
       "      <td>1.063130</td>\n",
       "      <td>0.617065</td>\n",
       "      <td>0.021961</td>\n",
       "      <td>1.377224</td>\n",
       "      <td>-0.996742</td>\n",
       "      <td>0</td>\n",
       "    </tr>\n",
       "    <tr>\n",
       "      <th>9560</th>\n",
       "      <td>0.242068</td>\n",
       "      <td>0.084689</td>\n",
       "      <td>1.295608</td>\n",
       "      <td>1.176746</td>\n",
       "      <td>0.612331</td>\n",
       "      <td>0</td>\n",
       "    </tr>\n",
       "  </tbody>\n",
       "</table>\n",
       "<p>8948 rows × 6 columns</p>\n",
       "</div>"
      ],
      "text/plain": [
       "             0         1         2         3         4  target\n",
       "0    -0.578993 -0.802604 -0.589390 -0.747850 -0.996742       0\n",
       "1     1.063130  0.439607 -1.319614 -1.108712 -0.077272       0\n",
       "2     0.789443  0.439607 -0.606372 -0.787946  0.612331       0\n",
       "3     1.063130  0.794524 -0.045967  0.334735  0.382463       0\n",
       "4     0.515755  0.439607 -0.742228 -0.787946 -1.226609       0\n",
       "...        ...       ...       ...       ...       ...     ...\n",
       "9556 -0.031619 -0.270228 -1.115831 -0.226605  0.382463       0\n",
       "9557 -0.852680 -1.334980  0.803131  0.455022 -0.996742       1\n",
       "9558  2.157878  1.504359 -0.691282  0.775788 -0.537007       0\n",
       "9559  1.063130  0.617065  0.021961  1.377224 -0.996742       0\n",
       "9560  0.242068  0.084689  1.295608  1.176746  0.612331       0\n",
       "\n",
       "[8948 rows x 6 columns]"
      ]
     },
     "execution_count": 118,
     "metadata": {},
     "output_type": "execute_result"
    }
   ],
   "source": [
    "dfstd[(dfstd < -2.5) | (dfstd > 2.5)] = np.NaN\n",
    "dfstd = dfstd.dropna()\n",
    "dfstd"
   ]
  },
  {
   "cell_type": "code",
   "execution_count": 127,
   "metadata": {},
   "outputs": [
    {
     "data": {
      "text/plain": [
       "array([[-0.57899275, -0.80260413, -0.58938997, -0.74785002, -0.99674183],\n",
       "       [ 1.06312962,  0.43960663, -1.31961423, -1.10871173, -0.07727165],\n",
       "       [ 0.78944256,  0.43960663, -0.60637193, -0.78794577,  0.61233098],\n",
       "       ...,\n",
       "       [ 2.15787786,  1.50435871, -0.69128173,  0.7757883 , -0.53700674],\n",
       "       [ 1.06312962,  0.61706531,  0.02196056,  1.37722448, -0.99674183],\n",
       "       [ 0.24206844,  0.08468927,  1.29560752,  1.17674575,  0.61233098]])"
      ]
     },
     "execution_count": 127,
     "metadata": {},
     "output_type": "execute_result"
    }
   ],
   "source": [
    "datastd = np.array(dfstd)\n",
    "datastd\n",
    "datastd = np.array(dfstd.iloc[:,:-1])\n",
    "datastd"
   ]
  },
  {
   "cell_type": "markdown",
   "metadata": {},
   "source": [
    "# SPLITTING DATASET"
   ]
  },
  {
   "cell_type": "code",
   "execution_count": 132,
   "metadata": {},
   "outputs": [],
   "source": [
    "x = datastd\n",
    "y = dfstd['target']"
   ]
  },
  {
   "cell_type": "code",
   "execution_count": 133,
   "metadata": {},
   "outputs": [
    {
     "name": "stdout",
     "output_type": "stream",
     "text": [
      "(7337, 5)\n",
      "(1611, 5)\n",
      "(7337,)\n",
      "(1611,)\n"
     ]
    }
   ],
   "source": [
    "xtr, xts, ytr, yts = train_test_split(\n",
    "    x, y, test_size = 0.18\n",
    ")\n",
    "print(xtr.shape)\n",
    "print(xts.shape)\n",
    "print(ytr.shape)\n",
    "print(yts.shape)"
   ]
  },
  {
   "cell_type": "markdown",
   "metadata": {},
   "source": [
    "# 1. K-NEAREST NEIGHTBORS"
   ]
  },
  {
   "cell_type": "markdown",
   "metadata": {},
   "source": [
    "#### K Value"
   ]
  },
  {
   "cell_type": "code",
   "execution_count": 140,
   "metadata": {},
   "outputs": [
    {
     "data": {
      "text/plain": [
       "87"
      ]
     },
     "execution_count": 140,
     "metadata": {},
     "output_type": "execute_result"
    }
   ],
   "source": [
    "len(xtr)\n",
    "k = round(len(xtr)**0.5)\n",
    "# k = 86\n",
    "k = k+1\n",
    "k"
   ]
  },
  {
   "cell_type": "code",
   "execution_count": 141,
   "metadata": {},
   "outputs": [
    {
     "data": {
      "text/plain": [
       "KNeighborsClassifier(algorithm='auto', leaf_size=30, metric='minkowski',\n",
       "                     metric_params=None, n_jobs=None, n_neighbors=87, p=2,\n",
       "                     weights='uniform')"
      ]
     },
     "execution_count": 141,
     "metadata": {},
     "output_type": "execute_result"
    }
   ],
   "source": [
    "model = KNeighborsClassifier(n_neighbors = k)\n",
    "model.fit(xtr,ytr)"
   ]
  },
  {
   "cell_type": "code",
   "execution_count": 142,
   "metadata": {},
   "outputs": [
    {
     "name": "stdout",
     "output_type": "stream",
     "text": [
      "0.9869646182495344\n"
     ]
    }
   ],
   "source": [
    "print(model.score(xts,yts))"
   ]
  },
  {
   "cell_type": "code",
   "execution_count": 146,
   "metadata": {},
   "outputs": [
    {
     "name": "stdout",
     "output_type": "stream",
     "text": [
      "[0]\n"
     ]
    }
   ],
   "source": [
    "# urutannya umur, height, weight, pts, reb\n",
    "print(model.predict([[2, 190, 90, 7, 6]]))"
   ]
  },
  {
   "cell_type": "code",
   "execution_count": null,
   "metadata": {},
   "outputs": [],
   "source": []
  }
 ],
 "metadata": {
  "kernelspec": {
   "display_name": "Python 3",
   "language": "python",
   "name": "python3"
  },
  "language_info": {
   "codemirror_mode": {
    "name": "ipython",
    "version": 3
   },
   "file_extension": ".py",
   "mimetype": "text/x-python",
   "name": "python",
   "nbconvert_exporter": "python",
   "pygments_lexer": "ipython3",
   "version": "3.7.6"
  }
 },
 "nbformat": 4,
 "nbformat_minor": 4
}
